{
 "cells": [
  {
   "cell_type": "code",
   "execution_count": null,
   "id": "e7c15df7",
   "metadata": {},
   "outputs": [],
   "source": [
    "import pandas as pd\n",
    "IDSS = pd.read_excel('../dieter/wards.xlsx')\n",
    "IDSS = list(IDSS['WARD_ID'])\n",
    "col_names = [int(i) for i in IDSS]"
   ]
  },
  {
   "cell_type": "code",
   "execution_count": null,
   "id": "166bd3d4",
   "metadata": {},
   "outputs": [],
   "source": [
    "col_names1 = []\n",
    "for i in col_names:\n",
    "    j = str(i)[0:3]+str(i)[4:8]\n",
    "    col_names1.append(j)\n",
    "col_names1"
   ]
  },
  {
   "cell_type": "code",
   "execution_count": null,
   "id": "d74d8729",
   "metadata": {},
   "outputs": [],
   "source": [
    "# Trigger the authentication flow.\n",
    "ee.Authenticate()\n",
    "\n",
    "# Initialize the library.\n",
    "ee.Initialize()"
   ]
  },
  {
   "cell_type": "code",
   "execution_count": null,
   "id": "aa077846",
   "metadata": {},
   "outputs": [],
   "source": [
    "import ee\n",
    "import os\n",
    "import geemap\n",
    "import pandas as pd\n",
    "\n",
    "# Initialize the Earth Engine module.\n",
    "#ee.Initialize()\n",
    "\n",
    "def calculate_crop_area_npp(ward_shapefile_id, land_cover_dataset_id, npp_dataset_id, year):\n",
    "    \"\"\"\n",
    "    Calculate crop area and extract NPP for a specific ward.\n",
    "\n",
    "    Args:\n",
    "    - ward_shapefile_id (str): Asset ID of the ward shapefile in GEE\n",
    "    - land_cover_dataset_id (str): Asset ID of the SANLC dataset in GEE\n",
    "    - npp_dataset_id (str): Asset ID of the MODIS NPP dataset in GEE\n",
    "    - year (int): Year for NPP data extraction\n",
    "\n",
    "    Returns:\n",
    "    - dict: A dictionary with ward ID, crop area, and mean NPP\n",
    "    \"\"\"\n",
    "    try:\n",
    "        # Load the ward shapefile.\n",
    "        ward = ee.FeatureCollection(ward_shapefile_id)\n",
    "\n",
    "        # Load the land cover and NPP datasets.\n",
    "        land_cover = ee.Image(land_cover_dataset_id)\n",
    "        npp_dataset = ee.ImageCollection(npp_dataset_id).filter(ee.Filter.date(f'{year}-01-01', f'{year}-12-31')).mean()\n",
    "\n",
    "        # Filter the land cover image for crop areas (assuming crop categories are known).\n",
    "        crop_category_ids = [u for u in range(32,33)]\n",
    "        crop_mask = land_cover.eq([crop_category_ids])  # Replace with actual crop category IDs.\n",
    "\n",
    "        # Calculate the crop area in the ward.\n",
    "        crop_area = crop_mask.multiply(ee.Image.pixelArea()).reduceRegion(\n",
    "            reducer=ee.Reducer.sum(),\n",
    "            geometry=ward.geometry(),\n",
    "            scale=30,\n",
    "            maxPixels=1e9\n",
    "        ).get('classification', 0)\n",
    "\n",
    "        # Calculate the mean NPP for the crop area in the ward.\n",
    "        mean_npp = npp_dataset.updateMask(crop_mask).reduceRegion(\n",
    "            reducer=ee.Reducer.mean(),\n",
    "            geometry=ward.geometry(),\n",
    "            scale=500,  # Adjust scale according to the resolution you desire\n",
    "            maxPixels=1e9\n",
    "        ).get('Npp', 0)\n",
    "    except (Exception):\n",
    "        print(f'Shapefile for ward {i} not found.')\n",
    "        #crop_area = 0\n",
    "        #mean_npp  = 0\n",
    "    return {\n",
    "        'Ward ID': ward_shapefile_id,\n",
    "        'Crop Area (sq. m)': crop_area.getInfo(),\n",
    "        'Mean NPP (gC/m^2/year)': mean_npp.getInfo()\n",
    "    }\n",
    "\n",
    "# Example usage for multiple wards\n",
    "ward_ids =  [f'users/noecareme/ADM4_PCODE_ZA{i}' for i in col_names1[:1]]  # List of ward asset IDs\n",
    "land_cover_dataset_id = 'users/noecareme/SA_NLC_2020_GEO'  # Replace with your SANLC dataset asset ID\n",
    "npp_dataset_id = 'MODIS/006/MOD17A3HGF'  # MODIS NPP dataset\n",
    "year = 2018  # Year of interest\n",
    "\n",
    "results = []\n",
    "for ward_id in ward_ids:\n",
    "    result = calculate_crop_area_npp(ward_id, land_cover_dataset_id, npp_dataset_id, year)\n",
    "    results.append(result)\n",
    "\n",
    "# Convert the results to a DataFrame\n",
    "results_df = pd.DataFrame(results)\n",
    "print(results_df)"
   ]
  }
 ],
 "metadata": {
  "kernelspec": {
   "display_name": "Python 3 (ipykernel)",
   "language": "python",
   "name": "python3"
  },
  "language_info": {
   "codemirror_mode": {
    "name": "ipython",
    "version": 3
   },
   "file_extension": ".py",
   "mimetype": "text/x-python",
   "name": "python",
   "nbconvert_exporter": "python",
   "pygments_lexer": "ipython3",
   "version": "3.10.9"
  }
 },
 "nbformat": 4,
 "nbformat_minor": 5
}

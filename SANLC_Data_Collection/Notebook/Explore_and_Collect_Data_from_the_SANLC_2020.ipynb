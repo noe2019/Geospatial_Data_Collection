{
 "cells": [
  {
   "cell_type": "markdown",
   "id": "c2911c57",
   "metadata": {},
   "source": [
    "#### Import libraries and authenticate GEE"
   ]
  },
  {
   "cell_type": "code",
   "execution_count": 1,
   "id": "8da38a46",
   "metadata": {},
   "outputs": [],
   "source": [
    "import os\n",
    "import ee\n",
    "import geemap"
   ]
  },
  {
   "cell_type": "code",
   "execution_count": 67,
   "id": "8292d62b",
   "metadata": {},
   "outputs": [
    {
     "data": {
      "text/html": [
       "<p>To authorize access needed by Earth Engine, open the following\n",
       "        URL in a web browser and follow the instructions:</p>\n",
       "        <p><a href=https://accounts.google.com/o/oauth2/auth?client_id=517222506229-vsmmajv00ul0bs7p89v5m89qs8eb9359.apps.googleusercontent.com&scope=https%3A%2F%2Fwww.googleapis.com%2Fauth%2Fearthengine+https%3A%2F%2Fwww.googleapis.com%2Fauth%2Fdevstorage.full_control&redirect_uri=urn%3Aietf%3Awg%3Aoauth%3A2.0%3Aoob&response_type=code&code_challenge=6rw5zGbnz_mRGnpneykPlqdKWfQ4grzE3YUL3sjf6r4&code_challenge_method=S256>https://accounts.google.com/o/oauth2/auth?client_id=517222506229-vsmmajv00ul0bs7p89v5m89qs8eb9359.apps.googleusercontent.com&scope=https%3A%2F%2Fwww.googleapis.com%2Fauth%2Fearthengine+https%3A%2F%2Fwww.googleapis.com%2Fauth%2Fdevstorage.full_control&redirect_uri=urn%3Aietf%3Awg%3Aoauth%3A2.0%3Aoob&response_type=code&code_challenge=6rw5zGbnz_mRGnpneykPlqdKWfQ4grzE3YUL3sjf6r4&code_challenge_method=S256</a></p>\n",
       "        <p>The authorization workflow will generate a code, which you\n",
       "        should paste in the box below</p>\n",
       "        "
      ],
      "text/plain": [
       "<IPython.core.display.HTML object>"
      ]
     },
     "metadata": {},
     "output_type": "display_data"
    },
    {
     "name": "stdout",
     "output_type": "stream",
     "text": [
      "Enter verification code: 4/1AX4XfWisi8BwXENXqM8_xDNCI8T3asXtCkFPRM_Hb0KjGPctbiL6mlj97Eo\n",
      "\n",
      "Successfully saved authorization token.\n"
     ]
    }
   ],
   "source": [
    "# Trigger the authentication flow.\n",
    "ee.Authenticate()\n",
    "\n",
    "# Initialize the library.\n",
    "ee.Initialize()"
   ]
  },
  {
   "cell_type": "markdown",
   "id": "37498267",
   "metadata": {},
   "source": [
    "## Select one ward and display the SANLC 2020 in its location"
   ]
  },
  {
   "cell_type": "code",
   "execution_count": 3,
   "id": "89d9ee5f",
   "metadata": {},
   "outputs": [
    {
     "data": {
      "application/vnd.jupyter.widget-view+json": {
       "model_id": "7d620046ac1e47b9aec5866c0259c167",
       "version_major": 2,
       "version_minor": 0
      },
      "text/plain": [
       "Map(center=[-33.918861, 18.4233], controls=(WidgetControl(options=['position', 'transparent_bg'], widget=HBox(…"
      ]
     },
     "metadata": {},
     "output_type": "display_data"
    }
   ],
   "source": [
    "Map = geemap.Map(center=(-33.918861, 18.423300))\n",
    "# Upload the shapefile of the ROI(SA)\n",
    "#sa  = ee.FeatureCollection(\"users/noecareme/Census_2011_Spatial_Geography\")\n",
    "sa    = geemap.shp_to_ee('/Users/noe/Documents/PostDoc/Workshop/Day 3/SA4/ADM4_PCODE_ZA5950090.shp')\n",
    "Map.addLayer(sa, {}, 'ROI')\n",
    "Map"
   ]
  },
  {
   "cell_type": "code",
   "execution_count": 4,
   "id": "32003f29",
   "metadata": {},
   "outputs": [
    {
     "data": {
      "application/vnd.jupyter.widget-view+json": {
       "model_id": "7d620046ac1e47b9aec5866c0259c167",
       "version_major": 2,
       "version_minor": 0
      },
      "text/plain": [
       "Map(bottom=616289.0, center=[-30.008691063294773, 30.903715019905704], controls=(WidgetControl(options=['posit…"
      ]
     },
     "metadata": {},
     "output_type": "display_data"
    }
   ],
   "source": [
    "### Legend and colors dictionary\n",
    "dico = {\"names\": [\"Contiguous (indigenous) Forest (combined very high, high, medium)\", \"Contiguous Low Forest & Thicket (combined classes)\", \"Dense Forest & Woodland (35 - 75% cc)\", \"Open Woodland (10 - 35% cc)\", \"Contiguous & Dense Planted Forest (combined classes)\", \"Open & Sparse Planted Forest\", \"Temporary Unplanted Forest\", \"Low Shrubland (other regions)\", \"Low Shrubland (Fynbos)\", \"Low Shrubland (Succulent Karoo)\", \"Low Shrubland (Nama Karoo)\", \"Sparsely Wooded Grassland (5 - 10% cc)\", \"Natural Grassland\", \"Natural Rivers\", \"Natural Estuaries & Lagoons\", \"Natural Ocean, Coastal\", \"Natural Lakes\", \"Natural Pans (flooded @ obsv time)\", \"Artificial Dams (incl. canals)\", \"Artificial Sewage Ponds\", \"Artificial Flooded Mine Pits\", \"Herbaceous Wetlands (currently mapped)\", \"Herbaceous Wetlands (previous mapped extent)\", \"Mangrove Wetlands\", \"Natural Rock Surfaces\", \"Dry Pans\", \"Eroded Lands\", \"Sand Dunes (terrestrial)\", \"Coastal Sand Dunes & Beach Sand\", \"Bare Riverbed Material\", \"Other Bare\", \"Cultivated Commercial Permanent Orchards\", \"Cultivated Commercial Permanent Vines\", \"Cultivated Commercial Sugarcane Pivot Irrigated\", \"Commercial Permanent Pineapples\", \"Cultivated Commercial Sugarcane Non-Pivot (all other)\", \"Cultivated Emerging Farmer Sugarcane Non-Pivot (all other)\", \"Commercial Annuals Pivot Irrigated\", \"Commercial Annuals Non-Pivot Irrigated\", \"Commercial Annuals Crops Rain-Fed / Dryland / Non-Irrigated\", \"Subsistence / Small-Scale Annual Crops\", \"Fallow Land & Old Fields (Trees)\", \"Fallow Land & Old Fields (Bush)\", \"Fallow Land & Old Fields (Grass)\", \"Fallow Land & Old Fields (Bare)\", \"Fallow Land & Old Fields (Low Shrub)\", \"Residential Formal (Tree)\", \"Residential Formal (Bush)\", \"Residential Formal (low veg / grass)\", \"Residential Formal (Bare)\", \"Residential Informal (Tree)\", \"Residential Informal (Bush)\", \"Residential Informal (low veg / grass)\", \"Residential Informal (Bare)\", \"Village Scattered (bare only)\", \"Village Dense (bare only)\", \"Smallholdings (Tree)\", \"Smallholdings (Bush)\", \"Smallholdings (low veg / grass)\", \"Smallholdings (Bare)\", \"Urban Recreational Fields (Tree)\", \"Urban Recreational Fields (Bush)\", \"Urban Recreational Fields (Grass)\", \"Urban Recreational Fields (Bare)\", \"Commercial\", \"Industrial\", \"Roads & Rail (Major Linear)\", \"Mines: Surface Infrastructure\", \"Mines: Extraction Sites: Open Cast & Quarries combined\", \"Mines: Extraction Sites: Salt Mines\", \"Mines: Waste (Tailings) & Resource Dumps\", \"Land-fills\", \"Fallow Land & Old Fields (wetlands)\"], \"colors\": [\"#F2F2F2\", \"#065106\", \"#005F00\", \"#008500\", \"#F74006\", \"#F9764D\", \"#F9906C\", \"#B8ABD1\", \"#8FAB39\", \"#AC92C5\", \"#AC9CDA\", \"#85D285\", \"#D2B485\", \"#00009F\", \"#041FA7\", \"#0639AB\", \"#0D50AC\", \"#125FAC\", \"#1373B4\", \"#1D81B6\", \"#1F8EB8\", \"#06DEDC\", \"#06E0D0\", \"#9F1FEC\", \"#ffffe0\", \"#DCDAC5\", \"#F9E0E0\", \"#F9F9C5\", \"#F9F9A7\", \"#CDD2E0\", \"#ffffe0\", \"#A62C39\", \"#B31F5C\", \"#DB0000\", \"#9F3978\", \"#FF0000\", \"#F64D6C\", \"#381A12\", \"#521F1C\", \"#85402C\", \"#C5735F\", \"#C1436C\", \"#C55E82\", \"#D27592\", \"#E0AAB8\", \"#DB90A9\", \"#ECDB0F\", \"#F6EC13\", \"#F9F81F\", \"#FFFF29\", \"#EC82EC\", \"#F691E0\", \"#F99FCF\", \"#FFC5CF\", \"#ECC500\", \"#FFD91F\", \"#AC7879\", \"#B89192\", \"#C49C9E\", \"#D2B8B8\", \"#BFFF00\", \"#33FF33\", \"#66FF66\", \"#99FF99\", \"#C49F0D\", \"#8F8506\", \"#F9DD03\", \"#FFFF00\", \"#B30606\", \"#C50606\", \"#D21D1A\", \"#F95479\", \"#6CE7DC\"]}\n",
    "\n",
    "sanlcd2020 = ee.Image('users/noecareme/SA_NLC_2020_GEO').select('b1').clip(sa)\n",
    "Map.addLayer(sanlcd2020, {'min':1, 'max':73,'palette':dico['colors']}, 'SANLC2020')\n",
    "Map"
   ]
  },
  {
   "cell_type": "code",
   "execution_count": 5,
   "id": "668880e8",
   "metadata": {
    "scrolled": true
   },
   "outputs": [
    {
     "data": {
      "application/vnd.jupyter.widget-view+json": {
       "model_id": "7d620046ac1e47b9aec5866c0259c167",
       "version_major": 2,
       "version_minor": 0
      },
      "text/plain": [
       "Map(bottom=616289.0, center=[-30.008691063294773, 30.903715019905704], controls=(WidgetControl(options=['posit…"
      ]
     },
     "metadata": {},
     "output_type": "display_data"
    }
   ],
   "source": [
    "#### Add legend to the map\n",
    "Map.add_legend(legend_keys=dico['names'], legend_colors=dico['colors'], position='topright',padding = '8px 15px')\n",
    "Map "
   ]
  },
  {
   "cell_type": "code",
   "execution_count": 6,
   "id": "8640da41",
   "metadata": {},
   "outputs": [
    {
     "data": {
      "text/plain": [
       "{'type': 'Image',\n",
       " 'bands': [{'id': 'b1',\n",
       "   'data_type': {'type': 'PixelType',\n",
       "    'precision': 'int',\n",
       "    'min': 0,\n",
       "    'max': 255},\n",
       "   'dimensions': [92927, 71248],\n",
       "   'crs': 'EPSG:4326',\n",
       "   'crs_transform': [0.00017966305682390397,\n",
       "    0,\n",
       "    16.350236486259412,\n",
       "    0,\n",
       "    -0.00017966305682390397,\n",
       "    -22.12406814340922]}],\n",
       " 'version': 1633513819831825,\n",
       " 'id': 'users/noecareme/SA_NLC_2020_GEO',\n",
       " 'properties': {'system:asset_size': 639000421}}"
      ]
     },
     "execution_count": 6,
     "metadata": {},
     "output_type": "execute_result"
    }
   ],
   "source": [
    "sanlcd2020.getInfo()"
   ]
  },
  {
   "cell_type": "markdown",
   "id": "40068221",
   "metadata": {},
   "source": [
    "# Extract data from each class from the above ward displayed"
   ]
  },
  {
   "cell_type": "code",
   "execution_count": 19,
   "id": "87dea273",
   "metadata": {},
   "outputs": [],
   "source": [
    "EO =[]\n",
    "for i in range(1,74):\n",
    "    crop20 = sanlcd2020.eq(i)\n",
    "    areaImage20 = crop20.multiply(ee.Image.pixelArea())\n",
    "    area20 = areaImage20.reduceRegion(**{\n",
    "      'reducer': ee.Reducer.sum(),\n",
    "      'geometry': sa.geometry(),\n",
    "      'scale': 20,\n",
    "      'maxPixels': 3e10\n",
    "      })\n",
    "    classAreaSqKm20 = ee.Number(area20.get('b1')).divide(1e6)\n",
    "    #EA20 = ee.Feature(None, {'Area': classAreaSqKm20})\n",
    "    EO.append(classAreaSqKm20.getInfo())\n",
    "pd.DataFrame(EO).to_excel('/Users/noe/Documents/Data_science/Geospatial_DS/SANLC_Data_Collection/sanlc/5950090.xlsx')#, index=[0])"
   ]
  },
  {
   "cell_type": "markdown",
   "id": "611b4965",
   "metadata": {},
   "source": [
    "## Loop through all the wards in South Africa and collect land cover"
   ]
  },
  {
   "cell_type": "code",
   "execution_count": 14,
   "id": "b0947445",
   "metadata": {},
   "outputs": [],
   "source": [
    "import pandas as pd\n",
    "IDSS = pd.read_excel('/Users/noe/Documents/Data_science/Geospatial_DS/SANLC_Data_Collection/Excelfiles/WARD_ID.xlsx')\n",
    "IDSS = list(IDSS[0])\n",
    "col_names = [int(i) for i in IDSS]"
   ]
  },
  {
   "cell_type": "code",
   "execution_count": 99,
   "id": "fa52743d",
   "metadata": {},
   "outputs": [],
   "source": [
    "for j in col_names:\n",
    "    table = geemap.shp_to_ee(\"/Users/noe/Documents/Data_science/Geospatial_DS/SANLC_Data_Collection/SA_LEVEL4/ADM4_PCODE_ZA\"+str(j)+\".shp\")\n",
    "\n",
    "    EO =[]\n",
    "    for i in range(1,74):\n",
    "        crop20 = sanlcd2020.eq(i)\n",
    "        areaImage20 = crop20.multiply(ee.Image.pixelArea())\n",
    "        area20 = areaImage20.reduceRegion(**{\n",
    "          'reducer': ee.Reducer.sum(),\n",
    "          'geometry': table,\n",
    "          'scale': 20,\n",
    "          'maxPixels': 3e10\n",
    "          })\n",
    "        classAreaSqKm20 = ee.Number(area20.get('b1')).divide(1e6)\n",
    "        #EA20+str(i) = ee.Feature(None, {'Area': cropAreaSqKm20+str(i)})\n",
    "        EO.append(classAreaSqKm20)\n",
    "    \n",
    "    pd.DataFrame(EO).to_excel('/Users/noe/Documents/Data_science/Geospatial_DS/SANLC_Data_Collection/sanlc/'+str(j)+'.xlsx')#, index=[0])"
   ]
  },
  {
   "cell_type": "markdown",
   "id": "fcad4177",
   "metadata": {},
   "source": [
    "### Some more datasets on South Africa\n",
    "- [South Africa-healthsites](https://data.humdata.org/dataset/south-africa-healthsites);\n",
    "- [GRID3 South Africa Settlement Extents, Version 01.01](https://data.humdata.org/dataset/grid3-south-africa-settlement-extents-version-01-01);\n",
    "\n",
    "- [South Africa - Population Density](https://data.humdata.org/dataset/worldpop-population-density-for-south-africa);\n",
    "- [South Africa - Population Counts](https://data.humdata.org/dataset/worldpop-population-counts-for-south-africa);\n",
    "- [HOTOSM South Africa Roads(OpenStreetMap Export)](https://data.humdata.org/dataset/hotosm_zaf_roads).\n"
   ]
  },
  {
   "cell_type": "code",
   "execution_count": null,
   "id": "622e6fbd",
   "metadata": {},
   "outputs": [],
   "source": []
  }
 ],
 "metadata": {
  "kernelspec": {
   "display_name": "Python 3",
   "language": "python",
   "name": "python3"
  },
  "language_info": {
   "codemirror_mode": {
    "name": "ipython",
    "version": 3
   },
   "file_extension": ".py",
   "mimetype": "text/x-python",
   "name": "python",
   "nbconvert_exporter": "python",
   "pygments_lexer": "ipython3",
   "version": "3.8.8"
  }
 },
 "nbformat": 4,
 "nbformat_minor": 5
}
